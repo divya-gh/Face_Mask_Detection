{
 "cells": [
  {
   "cell_type": "code",
   "execution_count": 15,
   "id": "creative-caution",
   "metadata": {},
   "outputs": [],
   "source": [
    "import pandas as pd\n",
    "import numpy as np\n",
    "import seaborn as sns\n",
    "import os\n",
    "import matplotlib.pyplot as plt\n",
    "import cv2\n",
    "from scipy.spatial import distance\n",
    "from sqlalchemy import create_engine\n",
    "from api_keys import post_key\n",
    "\n",
    "from sklearn.utils import shuffle\n",
    "import tensorflow as tf\n",
    "from tensorflow.keras.preprocessing.image import ImageDataGenerator\n",
    "from tensorflow.keras.applications import MobileNetV2\n",
    "from tensorflow.keras.layers import AveragePooling2D\n",
    "from tensorflow.keras.layers import Dropout\n",
    "from tensorflow.keras.layers import Flatten\n",
    "from tensorflow.keras.layers import Dense\n",
    "from tensorflow.keras.layers import Input\n",
    "from tensorflow.keras.models import Model\n",
    "from tensorflow.keras.optimizers import Adam"
   ]
  },
  {
   "cell_type": "markdown",
   "id": "romantic-suspension",
   "metadata": {},
   "source": [
    "#### Get data from the csv file"
   ]
  },
  {
   "cell_type": "code",
   "execution_count": 2,
   "id": "partial-cabinet",
   "metadata": {},
   "outputs": [],
   "source": [
    "#Create engine connection to PostgreSQL:¶\n",
    "# rds_connection_string = f\"{post_key}:{post_key}@localhost:5432/face_mask\"\n",
    "# engine = create_engine(f'postgresql://{rds_connection_string}')"
   ]
  },
  {
   "cell_type": "code",
   "execution_count": 3,
   "id": "intellectual-administrator",
   "metadata": {},
   "outputs": [
    {
     "data": {
      "text/plain": [
       "(7553, 2)"
      ]
     },
     "execution_count": 3,
     "metadata": {},
     "output_type": "execute_result"
    }
   ],
   "source": [
    "# #query data\n",
    "# face_mask_data_df = pd.read_sql_query('select * from face_mask_table', con=engine)\n",
    "# face_mask_data_df.shape"
   ]
  },
  {
   "cell_type": "code",
   "execution_count": 16,
   "id": "after-destruction",
   "metadata": {},
   "outputs": [
    {
     "data": {
      "text/html": [
       "<div>\n",
       "<style scoped>\n",
       "    .dataframe tbody tr th:only-of-type {\n",
       "        vertical-align: middle;\n",
       "    }\n",
       "\n",
       "    .dataframe tbody tr th {\n",
       "        vertical-align: top;\n",
       "    }\n",
       "\n",
       "    .dataframe thead th {\n",
       "        text-align: right;\n",
       "    }\n",
       "</style>\n",
       "<table border=\"1\" class=\"dataframe\">\n",
       "  <thead>\n",
       "    <tr style=\"text-align: right;\">\n",
       "      <th></th>\n",
       "      <th>Unnamed: 0</th>\n",
       "      <th>image</th>\n",
       "      <th>target</th>\n",
       "    </tr>\n",
       "  </thead>\n",
       "  <tbody>\n",
       "    <tr>\n",
       "      <th>0</th>\n",
       "      <td>3417</td>\n",
       "      <td>./Resources/Train/WithMask/Augmented_605_55749...</td>\n",
       "      <td>mask</td>\n",
       "    </tr>\n",
       "    <tr>\n",
       "      <th>1</th>\n",
       "      <td>4092</td>\n",
       "      <td>./Resources/Train/WithMask/Augmented_731_12561...</td>\n",
       "      <td>mask</td>\n",
       "    </tr>\n",
       "    <tr>\n",
       "      <th>2</th>\n",
       "      <td>8594</td>\n",
       "      <td>./Resources/faces/1 (4122).jpg</td>\n",
       "      <td>without_mask</td>\n",
       "    </tr>\n",
       "    <tr>\n",
       "      <th>3</th>\n",
       "      <td>7568</td>\n",
       "      <td>./Resources/faces/1 (3217).jpg</td>\n",
       "      <td>without_mask</td>\n",
       "    </tr>\n",
       "    <tr>\n",
       "      <th>4</th>\n",
       "      <td>4677</td>\n",
       "      <td>./Resources/Train/WithMask/Augmented_843_71192...</td>\n",
       "      <td>mask</td>\n",
       "    </tr>\n",
       "    <tr>\n",
       "      <th>...</th>\n",
       "      <td>...</td>\n",
       "      <td>...</td>\n",
       "      <td>...</td>\n",
       "    </tr>\n",
       "    <tr>\n",
       "      <th>12214</th>\n",
       "      <td>7018</td>\n",
       "      <td>./Resources/faces/1 (2733).jpg</td>\n",
       "      <td>without_mask</td>\n",
       "    </tr>\n",
       "    <tr>\n",
       "      <th>12215</th>\n",
       "      <td>7826</td>\n",
       "      <td>./Resources/faces/1 (3446).jpg</td>\n",
       "      <td>without_mask</td>\n",
       "    </tr>\n",
       "    <tr>\n",
       "      <th>12216</th>\n",
       "      <td>698</td>\n",
       "      <td>./Resources/Train/WithMask/899.png</td>\n",
       "      <td>mask</td>\n",
       "    </tr>\n",
       "    <tr>\n",
       "      <th>12217</th>\n",
       "      <td>8040</td>\n",
       "      <td>./Resources/faces/1 (3635).jpg</td>\n",
       "      <td>without_mask</td>\n",
       "    </tr>\n",
       "    <tr>\n",
       "      <th>12218</th>\n",
       "      <td>2013</td>\n",
       "      <td>./Resources/Train/WithMask/Augmented_339_92426...</td>\n",
       "      <td>mask</td>\n",
       "    </tr>\n",
       "  </tbody>\n",
       "</table>\n",
       "<p>12219 rows × 3 columns</p>\n",
       "</div>"
      ],
      "text/plain": [
       "       Unnamed: 0                                              image  \\\n",
       "0            3417  ./Resources/Train/WithMask/Augmented_605_55749...   \n",
       "1            4092  ./Resources/Train/WithMask/Augmented_731_12561...   \n",
       "2            8594                     ./Resources/faces/1 (4122).jpg   \n",
       "3            7568                     ./Resources/faces/1 (3217).jpg   \n",
       "4            4677  ./Resources/Train/WithMask/Augmented_843_71192...   \n",
       "...           ...                                                ...   \n",
       "12214        7018                     ./Resources/faces/1 (2733).jpg   \n",
       "12215        7826                     ./Resources/faces/1 (3446).jpg   \n",
       "12216         698                 ./Resources/Train/WithMask/899.png   \n",
       "12217        8040                     ./Resources/faces/1 (3635).jpg   \n",
       "12218        2013  ./Resources/Train/WithMask/Augmented_339_92426...   \n",
       "\n",
       "             target  \n",
       "0              mask  \n",
       "1              mask  \n",
       "2      without_mask  \n",
       "3      without_mask  \n",
       "4              mask  \n",
       "...             ...  \n",
       "12214  without_mask  \n",
       "12215  without_mask  \n",
       "12216          mask  \n",
       "12217  without_mask  \n",
       "12218          mask  \n",
       "\n",
       "[12219 rows x 3 columns]"
      ]
     },
     "execution_count": 16,
     "metadata": {},
     "output_type": "execute_result"
    }
   ],
   "source": [
    "face_mask_data_df = pd.read_csv(\"Resources/mask_no_mask.csv\")\n",
    "face_mask_data_df"
   ]
  },
  {
   "cell_type": "markdown",
   "id": "employed-calculator",
   "metadata": {},
   "source": [
    "#### Find total with mask and total without mask"
   ]
  },
  {
   "cell_type": "code",
   "execution_count": 17,
   "id": "comic-swing",
   "metadata": {},
   "outputs": [
    {
     "data": {
      "text/html": [
       "<div>\n",
       "<style scoped>\n",
       "    .dataframe tbody tr th:only-of-type {\n",
       "        vertical-align: middle;\n",
       "    }\n",
       "\n",
       "    .dataframe tbody tr th {\n",
       "        vertical-align: top;\n",
       "    }\n",
       "\n",
       "    .dataframe thead th {\n",
       "        text-align: right;\n",
       "    }\n",
       "</style>\n",
       "<table border=\"1\" class=\"dataframe\">\n",
       "  <thead>\n",
       "    <tr style=\"text-align: right;\">\n",
       "      <th></th>\n",
       "      <th>Unnamed: 0</th>\n",
       "      <th>image</th>\n",
       "    </tr>\n",
       "    <tr>\n",
       "      <th>target</th>\n",
       "      <th></th>\n",
       "      <th></th>\n",
       "    </tr>\n",
       "  </thead>\n",
       "  <tbody>\n",
       "    <tr>\n",
       "      <th>mask</th>\n",
       "      <td>5000</td>\n",
       "      <td>5000</td>\n",
       "    </tr>\n",
       "    <tr>\n",
       "      <th>without_mask</th>\n",
       "      <td>7219</td>\n",
       "      <td>7219</td>\n",
       "    </tr>\n",
       "  </tbody>\n",
       "</table>\n",
       "</div>"
      ],
      "text/plain": [
       "              Unnamed: 0  image\n",
       "target                         \n",
       "mask                5000   5000\n",
       "without_mask        7219   7219"
      ]
     },
     "execution_count": 17,
     "metadata": {},
     "output_type": "execute_result"
    }
   ],
   "source": [
    "mask_count = face_mask_data_df.groupby(\"target\").count()\n",
    "mask_count"
   ]
  },
  {
   "cell_type": "code",
   "execution_count": 18,
   "id": "physical-microwave",
   "metadata": {},
   "outputs": [],
   "source": [
    "x=mask_count.index\n",
    "y = mask_count['image']"
   ]
  },
  {
   "cell_type": "code",
   "execution_count": 19,
   "id": "indonesian-consumption",
   "metadata": {},
   "outputs": [
    {
     "data": {
      "image/png": "[encoded data removed]",
      "text/plain": [
       "<Figure size 432x288 with 1 Axes>"
      ]
     },
     "metadata": {
      "needs_background": "light"
     },
     "output_type": "display_data"
    }
   ],
   "source": [
    "plt.bar(x,y,color=[\"red\",\"green\"])\n",
    "plt.show()"
   ]
  },
  {
   "cell_type": "code",
   "execution_count": 20,
   "id": "announced-router",
   "metadata": {},
   "outputs": [
    {
     "name": "stdout",
     "output_type": "stream",
     "text": [
      "loading images...\n"
     ]
    },
    {
     "name": "stderr",
     "output_type": "stream",
     "text": [
      "C:\\Users\\ubc\\anaconda3\\envs\\maclearnpy\\lib\\site-packages\\PIL\\Image.py:952: UserWarning: Palette images with Transparency expressed in bytes should be converted to RGBA images\n",
      "  \"Palette images with Transparency expressed in bytes should be \"\n"
     ]
    }
   ],
   "source": [
    "from tensorflow.keras.applications.mobilenet_v2 import preprocess_input\n",
    "from tensorflow.keras.preprocessing.image import img_to_array\n",
    "from tensorflow.keras.preprocessing.image import load_img\n",
    "\n",
    "print(\"loading images...\")\n",
    "imagePaths = face_mask_data_df[\"image\"]\n",
    "\n",
    "data = []\n",
    "labels = face_mask_data_df[\"target\"]\n",
    "\n",
    "# loop over the image paths\n",
    "for path in imagePaths:\n",
    "\n",
    "    # load the input image (224x224) and preprocess it\n",
    "    image = load_img(path, target_size=(224, 224,224))\n",
    "    image = img_to_array(image) # conversion to array format\n",
    "    image = preprocess_input(image) #scaling the pixel in the input image to the range [-1, 1]\n",
    "    # append to list\n",
    "    data.append(image)\n",
    "\n",
    "# Ensuring our training data is in NumPy array format\n",
    "data = np.array(data, dtype=\"float32\")\n",
    "labels = np.array(labels)"
   ]
  },
  {
   "cell_type": "code",
   "execution_count": null,
   "id": "confused-bolivia",
   "metadata": {},
   "outputs": [],
   "source": [
    "#### Preprocess\n",
    "# perform one-hot encoding on the labels\n",
    "from sklearn.preprocessing import LabelBinarizer\n",
    "from tensorflow.keras.utils import to_categorical\n",
    "from sklearn.model_selection import train_test_split\n",
    "\n",
    "lb = LabelBinarizer()\n",
    "labels = lb.fit_transform(labels)\n",
    "labels = to_categorical(labels)\n",
    "\n",
    "# partition the data into training and testing splits using 80% of the data for training and the remaining 20% for testing\n",
    "(trainX, testX, trainY, testY) = train_test_split(data, labels,test_size=0.20, stratify=labels, random_state=42)\n",
    "\n",
    "\n"
   ]
  },
  {
   "cell_type": "markdown",
   "id": "illegal-rocket",
   "metadata": {},
   "source": [
    "#### Prepare for data augmentation: \n",
    "    - ImageDataGenerator accepts the original data, randomly transforms it, and returns only the new, transformed data."
   ]
  },
  {
   "cell_type": "code",
   "execution_count": 9,
   "id": "complimentary-charger",
   "metadata": {},
   "outputs": [],
   "source": [
    "train_data_aug = ImageDataGenerator(rotation_range=20,\n",
    "                                    zoom_range=0.15,\n",
    "                                    width_shift_range=0.2,\n",
    "                                    height_shift_range=0.2,\n",
    "                                    shear_range=0.15,\n",
    "                                    horizontal_flip=True,\n",
    "                                    fill_mode=\"nearest\")\n",
    "\n"
   ]
  },
  {
   "cell_type": "markdown",
   "id": "funded-russell",
   "metadata": {},
   "source": [
    "### MobileNets: \n",
    "    Efficient Convolutional Neural Networks for Mobile Vision Applications\n",
    "Note: each Keras Application expects a specific kind of input preprocessing. For MobileNet, call tf.keras.applications.mobilenet.preprocess_input on your inputs before passing them to the model. mobilenet.preprocess_input will scale input pixels between -1 and 1.\n",
    "https://keras.io/api/applications/mobilenet/\n",
    " https://towardsdatascience.com/review-mobilenetv2-light-weight-model-image-classification-8febb490e61c\n"
   ]
  },
  {
   "cell_type": "code",
   "execution_count": 10,
   "id": "exotic-prisoner",
   "metadata": {},
   "outputs": [],
   "source": [
    "# load the MobileNetV2 network, ensuring the head FC layer sets are left off\n",
    "baseModel = MobileNetV2(weights=\"imagenet\", input_shape =(224, 224, 3), include_top=False, input_tensor=Input(shape=(224, 224, 3)))"
   ]
  },
  {
   "cell_type": "markdown",
   "id": "dense-metallic",
   "metadata": {},
   "source": [
    "### Fine Tuning :\n",
    "    1. Build a new fully connected head and place it on top of the original architecture \n",
    "    2. “freezing” all layers in the body of the network to preserve what CONV layers have already learned.\n",
    "    3. After the FC head has started to learn patterns in our dataset, we can pause training, unfreeze the body, and continue training, but with a very small learning rate until sufficient accuracy is obtained.\n",
    "    https://www.pyimagesearch.com/2019/06/03/fine-tuning-with-keras-and-deep-learning/\n",
    "    "
   ]
  },
  {
   "cell_type": "code",
   "execution_count": 11,
   "id": "packed-switch",
   "metadata": {},
   "outputs": [],
   "source": [
    "# construct the head of the model that will be placed on top of the\n",
    "# the base model\n",
    "headModel = baseModel.output\n",
    "headModel = AveragePooling2D(pool_size=(7, 7))(headModel)\n",
    "headModel = Flatten(name=\"flatten\")(headModel)\n",
    "headModel = Dense(100, activation=\"relu\")(headModel)\n",
    "headModel = Dropout(0.5)(headModel)\n",
    "headModel = Dense(2, activation=\"softmax\")(headModel)\n",
    "\n",
    "# place the head FC model on top of the base model\n",
    "model = Model(inputs=baseModel.input, outputs=headModel)\n",
    "\n",
    "# freeze the base layers by looping over so they will not be updated during the first training process\n",
    "for layer in baseModel.layers:\n",
    "    layer.trainable = False"
   ]
  },
  {
   "cell_type": "markdown",
   "id": "executed-promise",
   "metadata": {},
   "source": [
    "compile and train our face mask detector network:"
   ]
  },
  {
   "cell_type": "code",
   "execution_count": 12,
   "id": "stuffed-australian",
   "metadata": {},
   "outputs": [
    {
     "name": "stdout",
     "output_type": "stream",
     "text": [
      "[INFO] compiling model...\n",
      "[INFO] training head...\n",
      "WARNING:tensorflow:sample_weight modes were coerced from\n",
      "  ...\n",
      "    to  \n",
      "  ['...']\n",
      "Train for 20 steps, validate on 1511 samples\n",
      "Epoch 1/14\n",
      "20/20 [==============================] - 122s 6s/step - loss: 0.7990 - accuracy: 0.5562 - val_loss: 0.7482 - val_accuracy: 0.4880\n",
      "Epoch 2/14\n",
      "20/20 [==============================] - 145s 7s/step - loss: 0.6657 - accuracy: 0.6167 - val_loss: 0.5950 - val_accuracy: 0.6802\n",
      "Epoch 3/14\n",
      "20/20 [==============================] - 152s 8s/step - loss: 0.5292 - accuracy: 0.7422 - val_loss: 0.5105 - val_accuracy: 0.7713\n",
      "Epoch 4/14\n",
      "20/20 [==============================] - 141s 7s/step - loss: 0.4975 - accuracy: 0.7672 - val_loss: 0.4364 - val_accuracy: 0.8291\n",
      "Epoch 5/14\n",
      "20/20 [==============================] - 140s 7s/step - loss: 0.4605 - accuracy: 0.7703 - val_loss: 0.3855 - val_accuracy: 0.8737\n",
      "Epoch 6/14\n",
      "20/20 [==============================] - 129s 6s/step - loss: 0.4108 - accuracy: 0.8344 - val_loss: 0.3331 - val_accuracy: 0.8936\n",
      "Epoch 7/14\n",
      "20/20 [==============================] - 128s 6s/step - loss: 0.4011 - accuracy: 0.8297 - val_loss: 0.2920 - val_accuracy: 0.9162\n",
      "Epoch 8/14\n",
      "20/20 [==============================] - 140s 7s/step - loss: 0.3773 - accuracy: 0.8297 - val_loss: 0.2775 - val_accuracy: 0.9149\n",
      "Epoch 9/14\n",
      "20/20 [==============================] - 154s 8s/step - loss: 0.3358 - accuracy: 0.8500 - val_loss: 0.2429 - val_accuracy: 0.9262\n",
      "Epoch 10/14\n",
      "20/20 [==============================] - 143s 7s/step - loss: 0.3003 - accuracy: 0.8750 - val_loss: 0.2455 - val_accuracy: 0.9176\n",
      "Epoch 11/14\n",
      "20/20 [==============================] - 156s 8s/step - loss: 0.2852 - accuracy: 0.8875 - val_loss: 0.2218 - val_accuracy: 0.9235\n",
      "Epoch 12/14\n",
      "20/20 [==============================] - 138s 7s/step - loss: 0.2494 - accuracy: 0.9187 - val_loss: 0.2006 - val_accuracy: 0.9348\n",
      "Epoch 13/14\n",
      "20/20 [==============================] - 139s 7s/step - loss: 0.2612 - accuracy: 0.9109 - val_loss: 0.1929 - val_accuracy: 0.9362\n",
      "Epoch 14/14\n",
      "20/20 [==============================] - 135s 7s/step - loss: 0.2801 - accuracy: 0.8734 - val_loss: 0.2245 - val_accuracy: 0.9202\n"
     ]
    }
   ],
   "source": [
    "print(\"[INFO] compiling model...\")\n",
    "model.compile(loss=\"binary_crossentropy\", optimizer=Adam(lr=1e-4, decay=1e-4 / 14), metrics=[\"accuracy\"])\n",
    "\n",
    "# train the head of the network\n",
    "print(\"[INFO] training head...\")\n",
    "H = model.fit( train_data_aug.flow(trainX, trainY, batch_size=32),\n",
    "               steps_per_epoch=20,    #32 is batch size\n",
    "               validation_data=(testX, testY),\n",
    "               validation_steps=len(testX) // 32,\n",
    "               epochs=14)"
   ]
  },
  {
   "cell_type": "markdown",
   "id": "undefined-lemon",
   "metadata": {},
   "source": [
    "#### Evaluate the resulting model on the test set:"
   ]
  },
  {
   "cell_type": "code",
   "execution_count": 24,
   "id": "spare-basement",
   "metadata": {},
   "outputs": [
    {
     "name": "stdout",
     "output_type": "stream",
     "text": [
      "predicting...\n"
     ]
    },
    {
     "data": {
      "text/html": [
       "<div>\n",
       "<style scoped>\n",
       "    .dataframe tbody tr th:only-of-type {\n",
       "        vertical-align: middle;\n",
       "    }\n",
       "\n",
       "    .dataframe tbody tr th {\n",
       "        vertical-align: top;\n",
       "    }\n",
       "\n",
       "    .dataframe thead th {\n",
       "        text-align: right;\n",
       "    }\n",
       "</style>\n",
       "<table border=\"1\" class=\"dataframe\">\n",
       "  <thead>\n",
       "    <tr style=\"text-align: right;\">\n",
       "      <th></th>\n",
       "      <th>Actual</th>\n",
       "      <th>Predicted</th>\n",
       "    </tr>\n",
       "  </thead>\n",
       "  <tbody>\n",
       "    <tr>\n",
       "      <th>0</th>\n",
       "      <td>1</td>\n",
       "      <td>1</td>\n",
       "    </tr>\n",
       "    <tr>\n",
       "      <th>1</th>\n",
       "      <td>1</td>\n",
       "      <td>1</td>\n",
       "    </tr>\n",
       "    <tr>\n",
       "      <th>2</th>\n",
       "      <td>1</td>\n",
       "      <td>1</td>\n",
       "    </tr>\n",
       "    <tr>\n",
       "      <th>3</th>\n",
       "      <td>1</td>\n",
       "      <td>1</td>\n",
       "    </tr>\n",
       "    <tr>\n",
       "      <th>4</th>\n",
       "      <td>0</td>\n",
       "      <td>0</td>\n",
       "    </tr>\n",
       "    <tr>\n",
       "      <th>5</th>\n",
       "      <td>1</td>\n",
       "      <td>1</td>\n",
       "    </tr>\n",
       "    <tr>\n",
       "      <th>6</th>\n",
       "      <td>0</td>\n",
       "      <td>0</td>\n",
       "    </tr>\n",
       "    <tr>\n",
       "      <th>7</th>\n",
       "      <td>1</td>\n",
       "      <td>1</td>\n",
       "    </tr>\n",
       "    <tr>\n",
       "      <th>8</th>\n",
       "      <td>1</td>\n",
       "      <td>1</td>\n",
       "    </tr>\n",
       "    <tr>\n",
       "      <th>9</th>\n",
       "      <td>1</td>\n",
       "      <td>1</td>\n",
       "    </tr>\n",
       "  </tbody>\n",
       "</table>\n",
       "</div>"
      ],
      "text/plain": [
       "   Actual  Predicted\n",
       "0       1          1\n",
       "1       1          1\n",
       "2       1          1\n",
       "3       1          1\n",
       "4       0          0\n",
       "5       1          1\n",
       "6       0          0\n",
       "7       1          1\n",
       "8       1          1\n",
       "9       1          1"
      ]
     },
     "execution_count": 24,
     "metadata": {},
     "output_type": "execute_result"
    }
   ],
   "source": [
    "# Make predictions on the testing set\n",
    "print(\"predicting...\")\n",
    "predIndx = model.predict(testX, batch_size=32)\n",
    "\n",
    "# for each image in the testing set we need to find the index of the label with corresponding largest predicted probability\n",
    "predIndx = np.argmax(predIndx, axis=1)\n",
    "\n",
    "#show the prediction in a dataframe\n",
    "pd.DataFrame({\"Actual\":testY.argmax(axis=1)[:10],\n",
    "              \"Predicted\":predIndx[:10]})\n"
   ]
  },
  {
   "cell_type": "code",
   "execution_count": 14,
   "id": "compatible-fifth",
   "metadata": {},
   "outputs": [
    {
     "data": {
      "text/plain": [
       "array(['with_mask', 'without_mask'], dtype='<U12')"
      ]
     },
     "execution_count": 14,
     "metadata": {},
     "output_type": "execute_result"
    }
   ],
   "source": [
    "#get target names\n",
    "lb.classes_"
   ]
  },
  {
   "cell_type": "code",
   "execution_count": 15,
   "id": "coastal-union",
   "metadata": {},
   "outputs": [
    {
     "name": "stdout",
     "output_type": "stream",
     "text": [
      "              precision    recall  f1-score   support\n",
      "\n",
      "   with_mask       0.98      0.85      0.91       745\n",
      "without_mask       0.87      0.99      0.93       766\n",
      "\n",
      "    accuracy                           0.92      1511\n",
      "   macro avg       0.93      0.92      0.92      1511\n",
      "weighted avg       0.93      0.92      0.92      1511\n",
      "\n"
     ]
    }
   ],
   "source": [
    "# show a classification report\n",
    "from sklearn.metrics import classification_report\n",
    "print(classification_report(testY.argmax(axis=1), predIndx, target_names=lb.classes_))\n"
   ]
  },
  {
   "cell_type": "code",
   "execution_count": null,
   "id": "optical-choir",
   "metadata": {},
   "outputs": [],
   "source": []
  },
  {
   "cell_type": "code",
   "execution_count": 16,
   "id": "loose-portable",
   "metadata": {},
   "outputs": [
    {
     "name": "stdout",
     "output_type": "stream",
     "text": [
      "saving mask detector model...\n"
     ]
    }
   ],
   "source": [
    "# save the model to disk\n",
    "print(\"saving mask detector model...\")\n",
    "model.save(\"./Saved_Model/MobileNetV2_model\", save_format=\"h5\")\n",
    "#model.save(\"./model-010.h5\")"
   ]
  },
  {
   "cell_type": "code",
   "execution_count": null,
   "id": "contained-politics",
   "metadata": {},
   "outputs": [],
   "source": [
    "!pip install pickle \n",
    "import pickle\n",
    "pickle.dump(logreg, open('./Saved_Model/MobileNetV2_model.pkl', 'wb'))"
   ]
  },
  {
   "cell_type": "code",
   "execution_count": 17,
   "id": "consecutive-parts",
   "metadata": {},
   "outputs": [
    {
     "data": {
      "image/png": "[encoded data removed]",
      "text/plain": [
       "<Figure size 432x288 with 1 Axes>"
      ]
     },
     "metadata": {},
     "output_type": "display_data"
    }
   ],
   "source": [
    "# plot the training loss and accuracy\n",
    "N = 14  #epocs\n",
    "plt.style.use(\"ggplot\")\n",
    "plt.figure()\n",
    "plt.plot(np.arange(0, N), H.history[\"loss\"], label=\"train_loss\")\n",
    "plt.plot(np.arange(0, N), H.history[\"val_loss\"], label=\"val_loss\")\n",
    "plt.plot(np.arange(0, N), H.history[\"accuracy\"], label=\"train_acc\")\n",
    "plt.plot(np.arange(0, N), H.history[\"val_accuracy\"], label=\"val_acc\")\n",
    "plt.title(\"Training Loss and Accuracy\")\n",
    "plt.xlabel(\"Epoch #\")\n",
    "plt.ylabel(\"Loss/Accuracy\")\n",
    "plt.legend(loc=\"center right\")\n",
    "plt.savefig(\"./Images/MobileNetV2_accracy_plot\")"
   ]
  },
  {
   "cell_type": "code",
   "execution_count": 4,
   "id": "registered-dairy",
   "metadata": {},
   "outputs": [],
   "source": [
    "# test for realtime prediction\n",
    "\n",
    "face_model = cv2.CascadeClassifier('./Resources/haarcascade_frontalface_default.xml')\n",
    "\n",
    "img = cv2.imread('./Resources/Test/WithMask/754.png')\n",
    "\n",
    "img = cv2.cvtColor(img, cv2.IMREAD_GRAYSCALE)\n",
    "\n",
    "faces = face_model.detectMultiScale(img,scaleFactor=1.1, minNeighbors=4)\n",
    "\n",
    "\n",
    "\n"
   ]
  },
  {
   "cell_type": "code",
   "execution_count": 5,
   "id": "elegant-cradle",
   "metadata": {},
   "outputs": [
    {
     "ename": "NameError",
     "evalue": "name 'model' is not defined",
     "output_type": "error",
     "traceback": [
      "\u001b[1;31m---------------------------------------------------------------------------\u001b[0m",
      "\u001b[1;31mNameError\u001b[0m                                 Traceback (most recent call last)",
      "\u001b[1;32m<ipython-input-5-b2fe7bdda2db>\u001b[0m in \u001b[0;36m<module>\u001b[1;34m\u001b[0m\n\u001b[0;32m     21\u001b[0m         \u001b[0mcrop\u001b[0m \u001b[1;33m=\u001b[0m \u001b[0mcv2\u001b[0m\u001b[1;33m.\u001b[0m\u001b[0mresize\u001b[0m\u001b[1;33m(\u001b[0m\u001b[0mcrop\u001b[0m\u001b[1;33m,\u001b[0m\u001b[1;33m(\u001b[0m\u001b[1;36m224\u001b[0m\u001b[1;33m,\u001b[0m\u001b[1;36m224\u001b[0m\u001b[1;33m)\u001b[0m\u001b[1;33m)\u001b[0m\u001b[1;33m\u001b[0m\u001b[1;33m\u001b[0m\u001b[0m\n\u001b[0;32m     22\u001b[0m         \u001b[0mcrop\u001b[0m \u001b[1;33m=\u001b[0m \u001b[0mnp\u001b[0m\u001b[1;33m.\u001b[0m\u001b[0mreshape\u001b[0m\u001b[1;33m(\u001b[0m\u001b[0mcrop\u001b[0m\u001b[1;33m,\u001b[0m\u001b[1;33m[\u001b[0m\u001b[1;36m1\u001b[0m\u001b[1;33m,\u001b[0m\u001b[1;36m224\u001b[0m\u001b[1;33m,\u001b[0m\u001b[1;36m224\u001b[0m\u001b[1;33m,\u001b[0m\u001b[1;36m3\u001b[0m\u001b[1;33m]\u001b[0m\u001b[1;33m)\u001b[0m\u001b[1;33m/\u001b[0m\u001b[1;36m255.0\u001b[0m\u001b[1;33m\u001b[0m\u001b[1;33m\u001b[0m\u001b[0m\n\u001b[1;32m---> 23\u001b[1;33m         \u001b[0mmask_result\u001b[0m \u001b[1;33m=\u001b[0m \u001b[0mmodel\u001b[0m\u001b[1;33m.\u001b[0m\u001b[0mpredict\u001b[0m\u001b[1;33m(\u001b[0m\u001b[0mcrop\u001b[0m\u001b[1;33m)\u001b[0m\u001b[1;33m\u001b[0m\u001b[1;33m\u001b[0m\u001b[0m\n\u001b[0m\u001b[0;32m     24\u001b[0m \u001b[1;33m\u001b[0m\u001b[0m\n\u001b[0;32m     25\u001b[0m         \u001b[0mcv2\u001b[0m\u001b[1;33m.\u001b[0m\u001b[0mputText\u001b[0m\u001b[1;33m(\u001b[0m\u001b[0mnew_img\u001b[0m\u001b[1;33m,\u001b[0m\u001b[0mmask_label\u001b[0m\u001b[1;33m[\u001b[0m\u001b[0mround\u001b[0m\u001b[1;33m(\u001b[0m\u001b[0mmask_result\u001b[0m\u001b[1;33m[\u001b[0m\u001b[1;36m0\u001b[0m\u001b[1;33m]\u001b[0m\u001b[1;33m[\u001b[0m\u001b[1;36m0\u001b[0m\u001b[1;33m]\u001b[0m\u001b[1;33m)\u001b[0m\u001b[1;33m]\u001b[0m\u001b[1;33m,\u001b[0m\u001b[1;33m(\u001b[0m\u001b[0mx\u001b[0m\u001b[1;33m,\u001b[0m \u001b[0my\u001b[0m\u001b[1;33m+\u001b[0m\u001b[1;36m90\u001b[0m\u001b[1;33m)\u001b[0m\u001b[1;33m,\u001b[0m \u001b[0mcv2\u001b[0m\u001b[1;33m.\u001b[0m\u001b[0mFONT_HERSHEY_SIMPLEX\u001b[0m\u001b[1;33m,\u001b[0m\u001b[1;36m0.5\u001b[0m\u001b[1;33m,\u001b[0m\u001b[0mcolor_label\u001b[0m\u001b[1;33m[\u001b[0m\u001b[0mlabel\u001b[0m\u001b[1;33m[\u001b[0m\u001b[0mi\u001b[0m\u001b[1;33m]\u001b[0m\u001b[1;33m]\u001b[0m\u001b[1;33m,\u001b[0m\u001b[1;36m2\u001b[0m\u001b[1;33m)\u001b[0m\u001b[1;33m\u001b[0m\u001b[1;33m\u001b[0m\u001b[0m\n",
      "\u001b[1;31mNameError\u001b[0m: name 'model' is not defined"
     ]
    }
   ],
   "source": [
    "mask_label = {0:'Mask Found',1:'No Mask Found'}\n",
    "color_label = {0:(0,255,0),1:(255,0,0)}\n",
    "MIN_DISTANCE = 0\n",
    "\n",
    "#check for no. of faces in the image\n",
    "# if more than one face found,\n",
    "if len(faces)>=1:\n",
    "    label = [0 for i in range(len(faces))]\n",
    "    for i in range(len(faces)-1):\n",
    "        for j in range(i+1, len(faces)):\n",
    "            dist = distance.euclidean(faces[i][:2],faces[j][:2])\n",
    "            if dist<MIN_DISTANCE:\n",
    "                label[i] = 1\n",
    "                label[j] = 1\n",
    "    new_img = cv2.cvtColor(img, cv2.COLOR_RGB2BGR) #colored output image\n",
    "    \n",
    "    # For every face found,   \n",
    "    for i in range(len(faces)):\n",
    "        (x,y,w,h) = faces[i]\n",
    "        crop = new_img[y:y+h,x:x+w]\n",
    "        crop = cv2.resize(crop,(224,224))\n",
    "        crop = np.reshape(crop,[1,224,224,3])/255.0        \n",
    "        mask_result = model.predict(crop)\n",
    "        \n",
    "        cv2.putText(new_img,mask_label[round(mask_result[0][0])],(x, y+90), cv2.FONT_HERSHEY_SIMPLEX,0.5,color_label[label[i]],2)\n",
    "        cv2.rectangle(new_img,(x,y),(x+w,y+h),color_label[label[i]],1)\n",
    "        \n",
    "    plt.figure(figsize=(10,10))\n",
    "    plt.imshow(new_img)\n",
    "            \n",
    "else:\n",
    "    print(\"No image\")"
   ]
  }
 ],
 "metadata": {
  "kernelspec": {
   "display_name": "maclearnpy",
   "language": "python",
   "name": "maclearnpy"
  },
  "language_info": {
   "codemirror_mode": {
    "name": "ipython",
    "version": 3
   },
   "file_extension": ".py",
   "mimetype": "text/x-python",
   "name": "python",
   "nbconvert_exporter": "python",
   "pygments_lexer": "ipython3",
   "version": "3.6.12"
  }
 },
 "nbformat": 4,
 "nbformat_minor": 5
}
